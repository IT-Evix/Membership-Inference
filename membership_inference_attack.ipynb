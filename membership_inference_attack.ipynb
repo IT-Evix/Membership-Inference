{
 "cells": [
  {
   "cell_type": "markdown",
   "metadata": {},
   "source": [
    "## Imports"
   ]
  },
  {
   "cell_type": "code",
   "execution_count": 15,
   "metadata": {},
   "outputs": [],
   "source": [
    "import torch\n",
    "from torch.utils.data import Dataset\n",
    "from typing import Tuple\n",
    "import numpy as np\n",
    "import requests\n",
    "import pandas as pd\n",
    "from sklearn.metrics import accuracy_score, recall_score, precision_score, roc_auc_score, roc_curve, auc\n",
    "from torchvision import transforms\n",
    "from sklearn.ensemble import RandomForestClassifier\n",
    "import matplotlib.pyplot as plt\n",
    "from torchvision.utils import make_grid\n",
    "from torchvision.transforms.functional import to_pil_image\n",
    "from sklearn.model_selection import train_test_split\n",
    "from torchvision.models import resnet18"
   ]
  },
  {
   "cell_type": "markdown",
   "metadata": {},
   "source": [
    "## Load Model"
   ]
  },
  {
   "cell_type": "code",
   "execution_count": 16,
   "metadata": {},
   "outputs": [
    {
     "name": "stderr",
     "output_type": "stream",
     "text": [
      "/myenv/lib/python3.11/site-packages/torchvision/models/_utils.py:208: UserWarning: The parameter 'pretrained' is deprecated since 0.13 and may be removed in the future, please use 'weights' instead.\n",
      "  warnings.warn(\n",
      "/myenv/lib/python3.11/site-packages/torchvision/models/_utils.py:223: UserWarning: Arguments other than a weight enum or `None` for 'weights' are deprecated since 0.13 and may be removed in the future. The current behavior is equivalent to passing `weights=None`.\n",
      "  warnings.warn(msg)\n",
      "/tmp/ipykernel_124750/4102427899.py:4: FutureWarning: You are using `torch.load` with `weights_only=False` (the current default value), which uses the default pickle module implicitly. It is possible to construct malicious pickle data which will execute arbitrary code during unpickling (See https://github.com/pytorch/pytorch/blob/main/SECURITY.md#untrusted-models for more details). In a future release, the default value for `weights_only` will be flipped to `True`. This limits the functions that could be executed during unpickling. Arbitrary objects will no longer be allowed to be loaded via this mode unless they are explicitly allowlisted by the user via `torch.serialization.add_safe_globals`. We recommend you start setting `weights_only=True` for any use case where you don't have full control of the loaded file. Please open an issue on GitHub for any issues related to this experimental feature.\n",
      "  ckpt = torch.load(\"./01_MIA_67.pt\", map_location=\"cpu\")\n"
     ]
    },
    {
     "data": {
      "text/plain": [
       "<All keys matched successfully>"
      ]
     },
     "execution_count": 16,
     "metadata": {},
     "output_type": "execute_result"
    }
   ],
   "source": [
    "model = resnet18(pretrained=False)\n",
    "model.fc = torch.nn.Linear(512, 44)\n",
    "\n",
    "ckpt = torch.load(\"./01_MIA_67.pt\", map_location=\"cpu\")\n",
    "\n",
    "model.load_state_dict(ckpt)"
   ]
  },
  {
   "cell_type": "markdown",
   "metadata": {},
   "source": [
    "## Utils"
   ]
  },
  {
   "cell_type": "code",
   "execution_count": 19,
   "metadata": {},
   "outputs": [],
   "source": [
    "class TaskDataset(Dataset):\n",
    "    def __init__(self, transform=None):\n",
    "        \"\"\"\n",
    "        Initialize the dataset with empty lists for IDs, images, and labels.\n",
    "        Optionally apply image transformations.\n",
    "\n",
    "        Args:\n",
    "        - transform (callable, optional): Transformations to apply to images (e.g., resizing, normalization).\n",
    "        \"\"\"\n",
    "        self.ids = []\n",
    "        self.imgs = []\n",
    "        self.labels = []\n",
    "        self.transform = transform\n",
    "\n",
    "    def __getitem__(self, index) -> Tuple[int, torch.Tensor, int]:\n",
    "        \"\"\"\n",
    "        Fetch a single sample from the dataset.\n",
    "\n",
    "        Args:\n",
    "        - index (int): Index of the sample to retrieve.\n",
    "\n",
    "        Returns:\n",
    "        - Tuple: (ID, image, label)\n",
    "        \"\"\"\n",
    "        id_ = self.ids[index]\n",
    "        img = self.imgs[index]\n",
    "        if self.transform is not None:\n",
    "            img = self.transform(img)\n",
    "        label = self.labels[index]\n",
    "        return id_, img, label\n",
    "\n",
    "    def __len__(self):\n",
    "        \"\"\"\n",
    "        Return the total number of samples in the dataset.\n",
    "\n",
    "        Returns:\n",
    "        - int: Length of the dataset (number of samples).\n",
    "        \"\"\"\n",
    "        return len(self.ids)\n",
    "\n",
    "\n",
    "class MembershipDataset(Dataset):\n",
    "    def __init__(self, ids, imgs, labels, memberships=None, transform=None):\n",
    "        \"\"\"\n",
    "        Initialize the membership dataset with IDs, images, labels, and optional membership data.\n",
    "        Optionally apply image transformations.\n",
    "\n",
    "        Args:\n",
    "        - ids (list): List of IDs for the samples.\n",
    "        - imgs (list): List of image tensors.\n",
    "        - labels (list): List of labels corresponding to each image.\n",
    "        - memberships (list, optional): List of membership flags (e.g., 0 or 1). Default is None.\n",
    "        - transform (callable, optional): Transformations to apply to images.\n",
    "        \"\"\"\n",
    "        self.ids = ids\n",
    "        self.imgs = imgs\n",
    "        self.labels = labels\n",
    "        self.memberships = memberships if memberships is not None else []\n",
    "        self.transform = transform\n",
    "\n",
    "    def __len__(self):\n",
    "        \"\"\"\n",
    "        Return the total number of samples in the dataset.\n",
    "\n",
    "        Returns:\n",
    "        - int: Length of the dataset (number of samples).\n",
    "        \"\"\"\n",
    "        return len(self.ids)\n",
    "\n",
    "    def __getitem__(self, index) -> Tuple[int, torch.Tensor, int, int]:\n",
    "        \"\"\"\n",
    "        Fetch a single sample from the membership dataset.\n",
    "\n",
    "        Args:\n",
    "        - index (int): Index of the sample to retrieve.\n",
    "\n",
    "        Returns:\n",
    "        - Tuple: (ID, image, label, membership)\n",
    "        \"\"\"\n",
    "        id_ = self.ids[index]\n",
    "        img = self.imgs[index]\n",
    "        label = self.labels[index]\n",
    "        membership = self.memberships[index] if len(self.memberships) > 0 else -1\n",
    "        if self.transform:\n",
    "            img = self.transform(img)\n",
    "\n",
    "        return id_, img, label, membership"
   ]
  },
  {
   "cell_type": "markdown",
   "metadata": {},
   "source": [
    "## Load Datasets"
   ]
  },
  {
   "cell_type": "code",
   "execution_count": 20,
   "metadata": {},
   "outputs": [
    {
     "name": "stderr",
     "output_type": "stream",
     "text": [
      "/tmp/ipykernel_124750/1892151053.py:12: FutureWarning: You are using `torch.load` with `weights_only=False` (the current default value), which uses the default pickle module implicitly. It is possible to construct malicious pickle data which will execute arbitrary code during unpickling (See https://github.com/pytorch/pytorch/blob/main/SECURITY.md#untrusted-models for more details). In a future release, the default value for `weights_only` will be flipped to `True`. This limits the functions that could be executed during unpickling. Arbitrary objects will no longer be allowed to be loaded via this mode unless they are explicitly allowlisted by the user via `torch.serialization.add_safe_globals`. We recommend you start setting `weights_only=True` for any use case where you don't have full control of the loaded file. Please open an issue on GitHub for any issues related to this experimental feature.\n",
      "  data = torch.load(filepath)\n"
     ]
    }
   ],
   "source": [
    "def load_dataset(filepath, transform=None):\n",
    "    \"\"\"\n",
    "    Load a dataset from a file and return a MembershipDataset instance.\n",
    "\n",
    "    Args:\n",
    "    - filepath (str): Path to the dataset file.\n",
    "    - transform (callable, optional): Transformations to apply to images.\n",
    "\n",
    "    Returns:\n",
    "    - MembershipDataset: The loaded dataset.\n",
    "    \"\"\"\n",
    "    data = torch.load(filepath)\n",
    "\n",
    "    ids = data.ids\n",
    "    imgs = data.imgs\n",
    "    labels = data.labels\n",
    "    memberships = getattr(data, 'membership', None)\n",
    "    return MembershipDataset(ids=ids, imgs=imgs, labels=labels, memberships=memberships, transform=transform)\n",
    "\n",
    "def get_default_transforms():\n",
    "    \"\"\"\n",
    "    Returns default image transformations for preprocessing.\n",
    "        transforms.Normalize(mean=[0.485, 0.456, 0.406],  # Normaliser les canaux RGB\n",
    "                             std=[0.229, 0.224, 0.225])\n",
    "\n",
    "    \"\"\"\n",
    "    return transforms.Compose([\n",
    "        transforms.Normalize(mean=[0.5], std=[0.5])\n",
    "    ])\n",
    "    \n",
    "\n",
    "transform = get_default_transforms()\n",
    "priv_out_dataset = load_dataset('./priv_out.pt', transform)\n",
    "pub_dataset = load_dataset('./pub.pt',transform)"
   ]
  },
  {
   "cell_type": "markdown",
   "metadata": {},
   "source": [
    "## Preprocess dataset"
   ]
  },
  {
   "cell_type": "code",
   "execution_count": 21,
   "metadata": {},
   "outputs": [
    {
     "name": "stdout",
     "output_type": "stream",
     "text": [
      "Number of samples in PUB dataset: 20000\n",
      "First PUB sample:\n",
      "  ID: 166661\n",
      "  Image shape: torch.Size([3, 32, 32])\n",
      "  Label: 33\n",
      "  Membership: 0\n",
      "  Pixel value range: Min = -0.3176470398902893, Max = 1.0\n",
      "Number of samples in PRIV OUT dataset: 20000\n",
      "First PRIV OUT sample:\n",
      "  ID: 55061\n",
      "  Image shape: torch.Size([3, 32, 32])\n",
      "  Label: 11\n",
      "  Membership: None\n",
      "  Pixel value range: Min = -0.30980390310287476, Max = 0.8352941274642944\n",
      "=== Dataset Debugging Complete ===\n",
      "\n"
     ]
    },
    {
     "data": {
      "image/png": "[encoded data removed]",
      "text/plain": [
       "<Figure size 1000x600 with 1 Axes>"
      ]
     },
     "metadata": {},
     "output_type": "display_data"
    },
    {
     "name": "stdout",
     "output_type": "stream",
     "text": [
      "Proportion of images with membership = 1 in PUB dataset: 50.00%\n"
     ]
    }
   ],
   "source": [
    "# Check the PUB dataset\n",
    "print(f\"Number of samples in PUB dataset: {len(pub_dataset)}\")\n",
    "pub_sample = pub_dataset[4]\n",
    "\n",
    "# Print details about the sample\n",
    "print(\"First PUB sample:\")\n",
    "print(f\"  ID: {pub_sample[0]}\")\n",
    "print(f\"  Image shape: {pub_sample[1].shape}\")\n",
    "print(f\"  Label: {pub_sample[2]}\")\n",
    "print(f\"  Membership: {pub_sample[3]}\")\n",
    "print(f\"  Pixel value range: Min = {pub_sample[1].min().item()}, Max = {pub_sample[1].max().item()}\")\n",
    "\n",
    "# Check the PRIV OUT dataset\n",
    "print(f\"Number of samples in PRIV OUT dataset: {len(priv_out_dataset)}\")\n",
    "priv_sample = priv_out_dataset[0]\n",
    "\n",
    "# Print details about the sample\n",
    "print(\"First PRIV OUT sample:\")\n",
    "print(f\"  ID: {priv_sample[0]}\")\n",
    "print(f\"  Image shape: {priv_sample[1].shape}\")\n",
    "print(f\"  Label: {priv_sample[2]}\")\n",
    "print(f\"  Membership: {priv_sample[3]}\")\n",
    "print(f\"  Pixel value range: Min = {priv_sample[1].min().item()}, Max = {priv_sample[1].max().item()}\")\n",
    "\n",
    "print(\"=== Dataset Debugging Complete ===\\n\")\n",
    "\n",
    "\n",
    "\n",
    "def plot_pixel_distribution(tensor):\n",
    "    \"\"\"\n",
    "    Display the histogram of pixel values in an image tensor.\n",
    "    \n",
    "    Parameters:\n",
    "    - tensor (torch.Tensor): The image tensor for which to display the pixel distribution.\n",
    "    \"\"\"\n",
    "    pixel_values = tensor.numpy().flatten()\n",
    "    \n",
    "    # Create a histogram of the pixel values\n",
    "    plt.figure(figsize=(10, 6))\n",
    "    plt.hist(pixel_values, bins=50, color='blue', alpha=0.7)\n",
    "    plt.title('Pixel Value Distribution')\n",
    "    plt.xlabel('Pixel Value')\n",
    "    plt.ylabel('Frequency')\n",
    "    plt.grid(True)\n",
    "    plt.show()\n",
    "\n",
    "# Plot the pixel value distribution of the image from the PUB sample\n",
    "plot_pixel_distribution(pub_sample[1])\n",
    "\n",
    "\n",
    "def calculate_membership_proportion(dataset):\n",
    "    \"\"\"\n",
    "    Calculate and return the proportion of images in the dataset with membership = 1.\n",
    "    \n",
    "    Parameters:\n",
    "    - dataset: A dataset where each item is a tuple (_, _, _, membership).\n",
    "    \n",
    "    Returns:\n",
    "    - float: The proportion of images with membership = 1.\n",
    "    \"\"\"\n",
    "    count_membership_1 = sum(1 for _, _, _, membership in dataset if membership == 1)\n",
    "    total_images = len(dataset)\n",
    "    proportion = count_membership_1 / total_images if total_images > 0 else 0\n",
    "    return proportion\n",
    "\n",
    "# Calculate and display the proportion of images with membership = 1 in the PUB dataset\n",
    "pub_proportion = calculate_membership_proportion(pub_dataset)\n",
    "print(f\"Proportion of images with membership = 1 in PUB dataset: {pub_proportion:.2%}\")\n"
   ]
  },
  {
   "cell_type": "markdown",
   "metadata": {},
   "source": [
    "## Test model on the pub dataset"
   ]
  },
  {
   "cell_type": "code",
   "execution_count": 22,
   "metadata": {},
   "outputs": [
    {
     "name": "stdout",
     "output_type": "stream",
     "text": [
      "torch.Size([3, 32, 32])\n"
     ]
    },
    {
     "data": {
      "image/png": "[encoded data removed]",
      "text/plain": [
       "<Figure size 640x480 with 1 Axes>"
      ]
     },
     "metadata": {},
     "output_type": "display_data"
    }
   ],
   "source": [
    "def show_random_image_with_prediction(dataset, model):\n",
    "    \"\"\"\n",
    "    Displays a random image from the dataset along with the model's prediction.\n",
    "\n",
    "    Parameters:\n",
    "    - dataset: The dataset containing images, labels, and membership information.\n",
    "    - model: The trained model used for predictions.\n",
    "    \"\"\"\n",
    "    model.eval()\n",
    "    \n",
    "    # Randomly select an image from the dataset\n",
    "    index = np.random.randint(0, len(dataset))\n",
    "    _, img_tensor, label, membership = dataset[index]\n",
    "    \n",
    "    # Display the image\n",
    "    print(img_tensor.shape)\n",
    "    img = to_pil_image(img_tensor)\n",
    "    plt.imshow(img)\n",
    "    plt.axis('off')\n",
    "    \n",
    "    # Predict the label using the model\n",
    "    with torch.no_grad():  \n",
    "        outputs = model(img_tensor.unsqueeze(0)) \n",
    "        softmax = torch.nn.Softmax(dim=1) \n",
    "        probs = softmax(outputs)  \n",
    "        predicted_label = probs.argmax(dim=1).item()  \n",
    "        predicted_prob = probs.max().item()  \n",
    "    \n",
    "    plt.title(f'Predicted: {predicted_label} (Prob: {predicted_prob:.2f})\\n'\n",
    "              f'Real: {label}, Membership: {\"Yes\" if membership == 1 else \"No\"}')    \n",
    "    plt.show()\n",
    "\n",
    "# Example usage\n",
    "show_random_image_with_prediction(pub_dataset, model)\n"
   ]
  },
  {
   "cell_type": "markdown",
   "metadata": {},
   "source": [
    "## Features and labels extraction"
   ]
  },
  {
   "cell_type": "code",
   "execution_count": 23,
   "metadata": {},
   "outputs": [
    {
     "name": "stdout",
     "output_type": "stream",
     "text": [
      "Data extraction completed\n"
     ]
    }
   ],
   "source": [
    "def extract_features_and_labels(dataset, model):\n",
    "    \"\"\"\n",
    "    Extracts features and labels from a dataset using the given model.\n",
    "\n",
    "    Parameters:\n",
    "    - dataset: The dataset containing images and membership information.\n",
    "    - model: The model used to extract features (e.g., ResNet).\n",
    "\n",
    "    Returns:\n",
    "    - features: A list of extracted features for each image.\n",
    "    - labels: A list of corresponding membership labels.\n",
    "    \"\"\"\n",
    "    model.eval()\n",
    "    features = []\n",
    "    labels = []\n",
    "    \n",
    "    with torch.no_grad():\n",
    "        for data in dataset:\n",
    "            _, img, _, membership = data\n",
    "            \n",
    "            # Obtain logits or features from the model\n",
    "            outputs = model(img.unsqueeze(0))\n",
    "            softmax = torch.nn.Softmax(dim=1)\n",
    "            # probs = softmax(outputs).squeeze(0).numpy()\n",
    "            probs = outputs.squeeze(0).numpy()\n",
    "            \n",
    "            # Store the features and corresponding labels\n",
    "            features.append(probs)\n",
    "            labels.append(membership)\n",
    "\n",
    "    return features, labels\n",
    "\n",
    "# Dataset preparation\n",
    "features, labels = extract_features_and_labels(pub_dataset, model)\n",
    "print('Data extraction completed')"
   ]
  },
  {
   "cell_type": "markdown",
   "metadata": {},
   "source": [
    "## Attack Model training"
   ]
  },
  {
   "cell_type": "code",
   "execution_count": 25,
   "metadata": {},
   "outputs": [
    {
     "name": "stdout",
     "output_type": "stream",
     "text": [
      "Model training completed\n",
      "Inference on the validation set completed\n",
      "Accuracy: 0.50625\n",
      "ROC AUC: 0.5028725179532372\n"
     ]
    }
   ],
   "source": [
    "# Split the data into training and validation sets\n",
    "X_train, X_val, y_train, y_val = train_test_split(features, labels, test_size=0.2, random_state=42)\n",
    "# Uncomment the lines below to inspect a specific training example and its label\n",
    "# print(X_train[5])\n",
    "# print(y_train[5])\n",
    "\n",
    "# Train a Random Forest classifier\n",
    "rf_classifier = RandomForestClassifier(n_estimators=400, random_state=42)\n",
    "rf_classifier.fit(X_train, y_train)\n",
    "print('Model training completed')\n",
    "\n",
    "# Make predictions and evaluate the model on the validation set\n",
    "y_pred = rf_classifier.predict(X_val)\n",
    "accuracy = accuracy_score(y_val, y_pred)\n",
    "roc_auc = roc_auc_score(y_val, rf_classifier.predict_proba(X_val)[:, 1])\n",
    "print('Inference on the validation set completed')\n",
    "\n",
    "# Display the evaluation metrics\n",
    "print(f\"Accuracy: {accuracy}\")\n",
    "print(f\"ROC AUC: {roc_auc}\")\n"
   ]
  },
  {
   "cell_type": "markdown",
   "metadata": {},
   "source": [
    "## Use the attack model for the priv_out dataset"
   ]
  },
  {
   "cell_type": "code",
   "execution_count": 28,
   "metadata": {},
   "outputs": [
    {
     "name": "stdout",
     "output_type": "stream",
     "text": [
      "First predicted membership probabilities for the PRIV OUT dataset:\n",
      "[0.475  0.51   0.5225 0.535  0.47  ]\n"
     ]
    }
   ],
   "source": [
    "def extract_features(dataset, model):\n",
    "    \"\"\"\n",
    "    Extract features from a dataset using a pre-trained model.\n",
    "\n",
    "    Parameters:\n",
    "    - dataset: The dataset to extract features from, where each sample contains an image tensor.\n",
    "    - model: The pre-trained model used to generate features.\n",
    "\n",
    "    Returns:\n",
    "    - features (list): A list of feature vectors extracted by the model.\n",
    "    \"\"\"\n",
    "    model.eval()\n",
    "    features = []\n",
    "    \n",
    "    with torch.no_grad():\n",
    "        for _, img, _, _ in dataset:\n",
    "            outputs = model(img.unsqueeze(0))\n",
    "            # probs = softmax(outputs).squeeze(0).numpy()\n",
    "            probs = outputs.squeeze(0).numpy()\n",
    "            features.append(probs)\n",
    "    \n",
    "    return features\n",
    "\n",
    "# Extract features for the PRIV OUT dataset using the pre-trained model\n",
    "priv_out_features = extract_features(priv_out_dataset, model)\n",
    "\n",
    "# Predict membership probabilities using the Random Forest classifier\n",
    "priv_out_probabilities = rf_classifier.predict_proba(priv_out_features)[:, 1]\n",
    "print(\"First predicted membership probabilities for the PRIV OUT dataset:\")\n",
    "print(priv_out_probabilities[:5])"
   ]
  },
  {
   "cell_type": "markdown",
   "metadata": {},
   "source": [
    "## File submission creation"
   ]
  },
  {
   "cell_type": "code",
   "execution_count": 29,
   "metadata": {},
   "outputs": [
    {
     "name": "stdout",
     "output_type": "stream",
     "text": [
      "Submission file 'submission.csv' created.\n"
     ]
    }
   ],
   "source": [
    "ids = priv_out_dataset.ids\n",
    "scores = priv_out_probabilities\n",
    "\n",
    "# Create the DataFrame\n",
    "submission_df = pd.DataFrame(\n",
    "    {\n",
    "        \"ids\": ids,\n",
    "        \"score\": scores,\n",
    "    }\n",
    ")\n",
    "\n",
    "# Save the DataFrame to a CSV file\n",
    "submission_df.to_csv(\"./submission.csv\", index=False)\n",
    "\n",
    "print(\"Submission file 'submission.csv' created.\")"
   ]
  },
  {
   "cell_type": "markdown",
   "metadata": {},
   "source": [
    "## Send the results"
   ]
  },
  {
   "cell_type": "code",
   "execution_count": 30,
   "metadata": {},
   "outputs": [
    {
     "name": "stdout",
     "output_type": "stream",
     "text": [
      "{'TPR@FPR=0.05': 0.049, 'AUC': 0.5065623333333333}\n"
     ]
    }
   ],
   "source": [
    "token = \"[a_real_token]\"\n",
    "\n",
    "with open(\"submission.csv\", \"rb\") as f:\n",
    "    response = requests.post(\n",
    "        \"[URL_server]\",\n",
    "        files={\"file\": f},\n",
    "        headers={\"token\": token},\n",
    "    )\n",
    "\n",
    "# Print the server's response\n",
    "print(response.json())"
   ]
  },
  {
   "cell_type": "code",
   "execution_count": null,
   "metadata": {},
   "outputs": [],
   "source": []
  }
 ],
 "metadata": {
  "kernelspec": {
   "display_name": "Python 3 (ipykernel)",
   "language": "python",
   "name": "python3"
  },
  "language_info": {
   "codemirror_mode": {
    "name": "ipython",
    "version": 3
   },
   "file_extension": ".py",
   "mimetype": "text/x-python",
   "name": "python",
   "nbconvert_exporter": "python",
   "pygments_lexer": "ipython3",
   "version": "3.11.2"
  }
 },
 "nbformat": 4,
 "nbformat_minor": 4
}
